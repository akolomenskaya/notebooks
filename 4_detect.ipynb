{
  "nbformat": 4,
  "nbformat_minor": 0,
  "metadata": {
    "colab": {
      "name": "4-detect.ipynb",
      "version": "0.3.2",
      "provenance": [],
      "collapsed_sections": []
    },
    "kernelspec": {
      "name": "python3",
      "display_name": "Python 3"
    }
  },
  "cells": [
    {
      "metadata": {
        "id": "qrBAPgNzSIcL",
        "colab_type": "code",
        "colab": {}
      },
      "cell_type": "code",
      "source": [
        "import numpy as np\n",
        "import pandas as pd\n",
        "\n",
        "from sklearn.neighbors import LocalOutlierFactor\n",
        "from sklearn.datasets import load_wine\n",
        "\n",
        "from sklearn.decomposition import KernelPCA\n",
        "\n",
        "import matplotlib.pyplot as plt\n",
        "import seaborn as sns\n",
        "%matplotlib inline\n",
        "\n",
        "from sklearn.utils import shuffle"
      ],
      "execution_count": 0,
      "outputs": []
    },
    {
      "metadata": {
        "id": "VW2PCUo4alLq",
        "colab_type": "code",
        "outputId": "83961e52-af13-4f14-b185-a14a45aed9f0",
        "colab": {
          "base_uri": "https://localhost:8080/",
          "height": 224
        }
      },
      "cell_type": "code",
      "source": [
        "data = load_wine()\n",
        "frame = pd.DataFrame(data.data, columns=data.feature_names)\n",
        "frame['target'] = data.target\n",
        "features = list(data.feature_names)\n",
        "frame = shuffle(frame, random_state=0)\n",
        "frame.head()"
      ],
      "execution_count": 2,
      "outputs": [
        {
          "output_type": "execute_result",
          "data": {
            "text/html": [
              "<div>\n",
              "<style scoped>\n",
              "    .dataframe tbody tr th:only-of-type {\n",
              "        vertical-align: middle;\n",
              "    }\n",
              "\n",
              "    .dataframe tbody tr th {\n",
              "        vertical-align: top;\n",
              "    }\n",
              "\n",
              "    .dataframe thead th {\n",
              "        text-align: right;\n",
              "    }\n",
              "</style>\n",
              "<table border=\"1\" class=\"dataframe\">\n",
              "  <thead>\n",
              "    <tr style=\"text-align: right;\">\n",
              "      <th></th>\n",
              "      <th>alcohol</th>\n",
              "      <th>malic_acid</th>\n",
              "      <th>ash</th>\n",
              "      <th>alcalinity_of_ash</th>\n",
              "      <th>magnesium</th>\n",
              "      <th>total_phenols</th>\n",
              "      <th>flavanoids</th>\n",
              "      <th>nonflavanoid_phenols</th>\n",
              "      <th>proanthocyanins</th>\n",
              "      <th>color_intensity</th>\n",
              "      <th>hue</th>\n",
              "      <th>od280/od315_of_diluted_wines</th>\n",
              "      <th>proline</th>\n",
              "      <th>target</th>\n",
              "    </tr>\n",
              "  </thead>\n",
              "  <tbody>\n",
              "    <tr>\n",
              "      <th>54</th>\n",
              "      <td>13.74</td>\n",
              "      <td>1.67</td>\n",
              "      <td>2.25</td>\n",
              "      <td>16.4</td>\n",
              "      <td>118.0</td>\n",
              "      <td>2.60</td>\n",
              "      <td>2.90</td>\n",
              "      <td>0.21</td>\n",
              "      <td>1.62</td>\n",
              "      <td>5.85</td>\n",
              "      <td>0.92</td>\n",
              "      <td>3.20</td>\n",
              "      <td>1060.0</td>\n",
              "      <td>0</td>\n",
              "    </tr>\n",
              "    <tr>\n",
              "      <th>151</th>\n",
              "      <td>12.79</td>\n",
              "      <td>2.67</td>\n",
              "      <td>2.48</td>\n",
              "      <td>22.0</td>\n",
              "      <td>112.0</td>\n",
              "      <td>1.48</td>\n",
              "      <td>1.36</td>\n",
              "      <td>0.24</td>\n",
              "      <td>1.26</td>\n",
              "      <td>10.80</td>\n",
              "      <td>0.48</td>\n",
              "      <td>1.47</td>\n",
              "      <td>480.0</td>\n",
              "      <td>2</td>\n",
              "    </tr>\n",
              "    <tr>\n",
              "      <th>63</th>\n",
              "      <td>12.37</td>\n",
              "      <td>1.13</td>\n",
              "      <td>2.16</td>\n",
              "      <td>19.0</td>\n",
              "      <td>87.0</td>\n",
              "      <td>3.50</td>\n",
              "      <td>3.10</td>\n",
              "      <td>0.19</td>\n",
              "      <td>1.87</td>\n",
              "      <td>4.45</td>\n",
              "      <td>1.22</td>\n",
              "      <td>2.87</td>\n",
              "      <td>420.0</td>\n",
              "      <td>1</td>\n",
              "    </tr>\n",
              "    <tr>\n",
              "      <th>55</th>\n",
              "      <td>13.56</td>\n",
              "      <td>1.73</td>\n",
              "      <td>2.46</td>\n",
              "      <td>20.5</td>\n",
              "      <td>116.0</td>\n",
              "      <td>2.96</td>\n",
              "      <td>2.78</td>\n",
              "      <td>0.20</td>\n",
              "      <td>2.45</td>\n",
              "      <td>6.25</td>\n",
              "      <td>0.98</td>\n",
              "      <td>3.03</td>\n",
              "      <td>1120.0</td>\n",
              "      <td>0</td>\n",
              "    </tr>\n",
              "    <tr>\n",
              "      <th>123</th>\n",
              "      <td>13.05</td>\n",
              "      <td>5.80</td>\n",
              "      <td>2.13</td>\n",
              "      <td>21.5</td>\n",
              "      <td>86.0</td>\n",
              "      <td>2.62</td>\n",
              "      <td>2.65</td>\n",
              "      <td>0.30</td>\n",
              "      <td>2.01</td>\n",
              "      <td>2.60</td>\n",
              "      <td>0.73</td>\n",
              "      <td>3.10</td>\n",
              "      <td>380.0</td>\n",
              "      <td>1</td>\n",
              "    </tr>\n",
              "  </tbody>\n",
              "</table>\n",
              "</div>"
            ],
            "text/plain": [
              "     alcohol  malic_acid   ash  alcalinity_of_ash  magnesium  total_phenols  \\\n",
              "54     13.74        1.67  2.25               16.4      118.0           2.60   \n",
              "151    12.79        2.67  2.48               22.0      112.0           1.48   \n",
              "63     12.37        1.13  2.16               19.0       87.0           3.50   \n",
              "55     13.56        1.73  2.46               20.5      116.0           2.96   \n",
              "123    13.05        5.80  2.13               21.5       86.0           2.62   \n",
              "\n",
              "     flavanoids  nonflavanoid_phenols  proanthocyanins  color_intensity   hue  \\\n",
              "54         2.90                  0.21             1.62             5.85  0.92   \n",
              "151        1.36                  0.24             1.26            10.80  0.48   \n",
              "63         3.10                  0.19             1.87             4.45  1.22   \n",
              "55         2.78                  0.20             2.45             6.25  0.98   \n",
              "123        2.65                  0.30             2.01             2.60  0.73   \n",
              "\n",
              "     od280/od315_of_diluted_wines  proline  target  \n",
              "54                           3.20   1060.0       0  \n",
              "151                          1.47    480.0       2  \n",
              "63                           2.87    420.0       1  \n",
              "55                           3.03   1120.0       0  \n",
              "123                          3.10    380.0       1  "
            ]
          },
          "metadata": {
            "tags": []
          },
          "execution_count": 2
        }
      ]
    },
    {
      "metadata": {
        "id": "c19a4NE7ttw_",
        "colab_type": "code",
        "colab": {}
      },
      "cell_type": "code",
      "source": [
        "features = features[len(features) // 2:]\n",
        "\n",
        "split = len(frame) // 2\n",
        "train = frame[:split]\n",
        "test = frame[split:]"
      ],
      "execution_count": 0,
      "outputs": []
    },
    {
      "metadata": {
        "id": "0JkJv5bgbVP1",
        "colab_type": "code",
        "outputId": "be5a26a0-ceb6-443f-9696-398c5cf0c575",
        "colab": {
          "base_uri": "https://localhost:8080/",
          "height": 283
        }
      },
      "cell_type": "code",
      "source": [
        "import warnings\n",
        "warnings.filterwarnings('ignore')\n",
        "\n",
        "pca = KernelPCA(2, kernel='linear', random_state=0).fit(train[features])\n",
        "\n",
        "train['pca1'] = pca.transform(train[features]).T[0]\n",
        "train['pca2'] = pca.transform(train[features]).T[1]\n",
        "\n",
        "test['pca1'] = pca.transform(test[features]).T[0]\n",
        "test['pca2'] = pca.transform(test[features]).T[1]\n",
        "\n",
        "sns.scatterplot(x=\"pca1\", y=\"pca2\", hue=\"target\", data=test);"
      ],
      "execution_count": 4,
      "outputs": [
        {
          "output_type": "display_data",
          "data": {
            "image/png": "[encoded data removed]",
            "text/plain": [
              "<Figure size 432x288 with 1 Axes>"
            ]
          },
          "metadata": {
            "tags": []
          }
        }
      ]
    },
    {
      "metadata": {
        "id": "C87ZHQvbeHTV",
        "colab_type": "code",
        "outputId": "91e9f0b1-3674-4900-c261-1a3d3af0607f",
        "colab": {
          "base_uri": "https://localhost:8080/",
          "height": 283
        }
      },
      "cell_type": "code",
      "source": [
        "inliers = []\n",
        "for depth in range(5, 35, 5):\n",
        "  isolator = LocalOutlierFactor(n_neighbors=depth, novelty=True).fit(train[features])\n",
        "\n",
        "  train['inlier_' + str(depth)] = isolator.predict(train[features])\n",
        "  test['inlier_' + str(depth)] = isolator.predict(test[features])\n",
        "  \n",
        "  inliers.append('inlier_' + str(depth))\n",
        "\n",
        "sns.scatterplot(x=\"pca1\", y=\"pca2\", hue=inliers[-1], data=train);\n",
        "plt.savefig('/home/8.svg', format='SVG')"
      ],
      "execution_count": 5,
      "outputs": [
        {
          "output_type": "display_data",
          "data": {
            "image/png": "[encoded data removed]",
            "text/plain": [
              "<Figure size 432x288 with 1 Axes>"
            ]
          },
          "metadata": {
            "tags": []
          }
        }
      ]
    },
    {
      "metadata": {
        "id": "OSnIyzMdfJyV",
        "colab_type": "code",
        "outputId": "6565dab8-e435-4629-b2cd-48f0555d1cef",
        "colab": {
          "base_uri": "https://localhost:8080/",
          "height": 102
        }
      },
      "cell_type": "code",
      "source": [
        "from sklearn.ensemble import GradientBoostingClassifier\n",
        "from sklearn.linear_model import LogisticRegression\n",
        "\n",
        "classifier = LogisticRegression().fit(train[features], train.target)\n",
        "print(\"%.4f\" % classifier.score(test[features], test.target))\n",
        "\n",
        "classifier = GradientBoostingClassifier().fit(train[features], train.target)\n",
        "print(\"%.4f\" % classifier.score(test[features], test.target))\n",
        "\n",
        "classifier = LogisticRegression().fit(train[features + inliers], train.target)\n",
        "print(\"%.4f\" % classifier.score(test[features + inliers], test.target))\n",
        "\n",
        "classifier = LogisticRegression().fit(train[features + inliers + ['pca1', 'pca2']], train.target)\n",
        "print(\"%.4f\" % classifier.score(test[features + inliers + ['pca1', 'pca2']], test.target))\n",
        "\n",
        "classifier = LogisticRegression().fit(train[features + ['pca1', 'pca2']], train.target)\n",
        "print(\"%.4f\" % classifier.score(test[features + ['pca1', 'pca2']], test.target))"
      ],
      "execution_count": 6,
      "outputs": [
        {
          "output_type": "stream",
          "text": [
            "0.9213\n",
            "0.9326\n",
            "0.9438\n",
            "0.9551\n",
            "0.9663\n"
          ],
          "name": "stdout"
        }
      ]
    }
  ]
}