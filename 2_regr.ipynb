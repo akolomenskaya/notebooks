{
  "nbformat": 4,
  "nbformat_minor": 0,
  "metadata": {
    "colab": {
      "name": "2-regr.ipynb",
      "version": "0.3.2",
      "provenance": [],
      "collapsed_sections": []
    },
    "kernelspec": {
      "name": "python3",
      "display_name": "Python 3"
    }
  },
  "cells": [
    {
      "metadata": {
        "id": "XT9Vyt7UA4Vi",
        "colab_type": "code",
        "colab": {}
      },
      "cell_type": "code",
      "source": [
        "import numpy as np\n",
        "import pandas as pd\n",
        "\n",
        "from sklearn.datasets import fetch_california_housing\n",
        "from sklearn.neural_network import MLPRegressor\n",
        "from sklearn.cluster import KMeans\n",
        "from sklearn.preprocessing import MinMaxScaler\n",
        "\n",
        "import warnings\n",
        "warnings.filterwarnings('ignore')\n",
        "\n",
        "from sklearn.model_selection import train_test_split\n",
        "from sklearn.metrics import r2_score\n",
        "\n",
        "from xgboost import XGBRegressor\n",
        "\n",
        "data = fetch_california_housing()\n",
        "frame = pd.DataFrame(data.data, columns=data.feature_names)\n",
        "frame['target'] = data.target\n",
        "\n",
        "components = list(data.feature_names)\n",
        "train_X, test_X, train_y, test_y = train_test_split(frame[components], frame.target, test_size=0.5, shuffle=True, random_state=0)"
      ],
      "execution_count": 0,
      "outputs": []
    },
    {
      "metadata": {
        "id": "fwG3ajbSe6BH",
        "colab_type": "code",
        "outputId": "3572bbbc-f58d-4705-d128-32975d5f7bb8",
        "colab": {
          "base_uri": "https://localhost:8080/",
          "height": 34
        }
      },
      "cell_type": "code",
      "source": [
        "xgb = XGBRegressor(random_state=0).fit(train_X, train_y)\n",
        "print(\"%.4f\" % r2_score(test_y, xgb.predict(test_X).reshape(-1, 1)))"
      ],
      "execution_count": 2,
      "outputs": [
        {
          "output_type": "stream",
          "text": [
            "0.7808\n"
          ],
          "name": "stdout"
        }
      ]
    },
    {
      "metadata": {
        "id": "4XMENmzXe_rW",
        "colab_type": "code",
        "outputId": "0e013230-25c5-4ac5-c59a-d5b458000ca4",
        "colab": {
          "base_uri": "https://localhost:8080/",
          "height": 34
        }
      },
      "cell_type": "code",
      "source": [
        "scaler_x = MinMaxScaler((0, 1)).fit(train_X)\n",
        "scaled_train_x = scaler_x.transform(train_X)\n",
        "scaled_test_x = scaler_x.transform(test_X)\n",
        "\n",
        "scaler_y = MinMaxScaler((0, 1)).fit(train_y.values.reshape(-1, 1))\n",
        "scaled_train_y = scaler_y.transform(train_y.values.reshape(-1, 1)).ravel()\n",
        "\n",
        "mlp = MLPRegressor([180] * 4, activation='relu', random_state=0).fit(scaled_train_x, scaled_train_y)\n",
        "print(\"%.4f\" % r2_score(test_y, scaler_y.inverse_transform(mlp.predict(scaled_test_x).reshape(-1, 1))))"
      ],
      "execution_count": 3,
      "outputs": [
        {
          "output_type": "stream",
          "text": [
            "0.7380\n"
          ],
          "name": "stdout"
        }
      ]
    },
    {
      "metadata": {
        "id": "qntZsBRW6GGx",
        "colab_type": "code",
        "outputId": "977054f9-64ff-459b-ddbb-7647b93d2f86",
        "colab": {
          "base_uri": "https://localhost:8080/",
          "height": 34
        }
      },
      "cell_type": "code",
      "source": [
        "clusters = KMeans(2).fit(train_X)\n",
        "centers_train = np.array([\n",
        "    clusters.cluster_centers_[label] for label in clusters.labels_\n",
        "])\n",
        "centers_test = np.array([\n",
        "    clusters.cluster_centers_[label] for label in clusters.predict(test_X)\n",
        "])\n",
        "for index, column in enumerate(centers_train.T):\n",
        "  train_X[str(index)] = [\n",
        "      np.linalg.norm(column[iterator] - train_X[components[index]].values[iterator]) for iterator in range(len(column))\n",
        "  ]\n",
        "  \n",
        "for index, column in enumerate(centers_test.T):\n",
        "  test_X[str(index)] = [\n",
        "      np.linalg.norm(column[iterator] - test_X[components[index]].values[iterator]) for iterator in range(len(column))\n",
        "  ]\n",
        "\n",
        "scaler_x = MinMaxScaler((0, 1)).fit(train_X)\n",
        "scaled_train_x = scaler_x.transform(train_X)\n",
        "scaled_test_x = scaler_x.transform(test_X)\n",
        "\n",
        "scaler_y = MinMaxScaler((0, 1)).fit(train_y.values.reshape(-1, 1))\n",
        "scaled_train_y = scaler_y.transform(train_y.values.reshape(-1, 1)).ravel()\n",
        "\n",
        "mlp = MLPRegressor([180] * 4, activation='relu', random_state=0).fit(scaled_train_x, scaled_train_y)\n",
        "print(\"%.4f\" % r2_score(test_y, scaler_y.inverse_transform(mlp.predict(scaled_test_x).reshape(-1, 1))))"
      ],
      "execution_count": 4,
      "outputs": [
        {
          "output_type": "stream",
          "text": [
            "0.7981\n"
          ],
          "name": "stdout"
        }
      ]
    }
  ]
}